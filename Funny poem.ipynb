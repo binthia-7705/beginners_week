{
  "nbformat": 4,
  "nbformat_minor": 0,
  "metadata": {
    "colab": {
      "provenance": [],
      "include_colab_link": true
    },
    "language_info": {
      "name": "python"
    },
    "kernelspec": {
      "name": "python3",
      "display_name": "Python 3"
    }
  },
  "cells": [
    {
      "cell_type": "markdown",
      "metadata": {
        "id": "view-in-github",
        "colab_type": "text"
      },
      "source": [
        "<a href=\"https://colab.research.google.com/github/binthia-7705/beginners_week/blob/main/Funny%20poem.ipynb\" target=\"_parent\"><img src=\"https://colab.research.google.com/assets/colab-badge.svg\" alt=\"Open In Colab\"/></a>"
      ]
    },
    {
      "cell_type": "markdown",
      "metadata": {
        "id": "gQgNEesQGfJU"
      },
      "source": [
        "# Generated Code"
      ]
    },
    {
      "cell_type": "code",
      "metadata": {
        "colab": {
          "base_uri": "https://localhost:8080/"
        },
        "id": "vxR3xbGJGfJV",
        "outputId": "45721939-887d-449a-e953-59012bfef4be"
      },
      "source": [
        "# To run this code you need to install the following dependencies:\n",
        "# pip install google-genai\n",
        "\n",
        "import base64\n",
        "import os\n",
        "from google import genai\n",
        "from google.genai import types\n",
        "\n",
        "\n",
        "def generate():\n",
        "    client = genai.Client(\n",
        "        api_key=os.environ.get(\"GEMINI-API-KEY\"),\n",
        "    )\n",
        "\n",
        "    model = \"gemini-2.5-pro\"\n",
        "    contents = [\n",
        "        types.Content(\n",
        "            role=\"user\",\n",
        "            parts=[\n",
        "                types.Part.from_text(text=\"\"\"Generate a funny poem with good spelling mistakes\"\"\"),\n",
        "            ],\n",
        "        ),\n",
        "    ]\n",
        "    generate_content_config = types.GenerateContentConfig(\n",
        "        thinking_config = types.ThinkingConfig(\n",
        "            thinking_budget=-1,\n",
        "        ),\n",
        "    )\n",
        "\n",
        "    for chunk in client.models.generate_content_stream(\n",
        "        model=model,\n",
        "        contents=contents,\n",
        "        config=generate_content_config,\n",
        "    ):\n",
        "        print(chunk.text, end=\"\")\n",
        "\n",
        "if __name__ == \"__main__\":\n",
        "    generate()"
      ],
      "execution_count": 8,
      "outputs": [
        {
          "output_type": "stream",
          "name": "stdout",
          "text": [
            "**Ode to a Kitchin Sinck**\n",
            "\n",
            "My kitchin sinck, you are a site,\n",
            "You fil my hart with pure delite.\n",
            "The pyle of dishez grows so hi,\n",
            "It almost reeches to the skie.\n",
            "\n",
            "A fork wuz stabed into a peech,\n",
            "A spork is just beyond my reech.\n",
            "That cup has sumthing wierd and brown,\n",
            "I hope it dont slide farther down.\n",
            "\n",
            "I sware I’ll wash them all tonite,\n",
            "Or maybe when the sun is brite.\n",
            "Rite now I havint got the time,\n",
            "To clean this groce and smelly grime.\n",
            "\n",
            "But sumtimes, in the moonlite’s gleem,\n",
            "It looks like a majestick dream.\n",
            "A mountin made of plaites and mugs,\n",
            "(And probly hoom to severul bugs).\n",
            "\n",
            "So here’s to you, my sinck so full,\n",
            "Your presents makes my life less dull.\n",
            "I'll clean you soon, I realy vow,\n",
            "But first I need my spagetti now."
          ]
        }
      ]
    }
  ]
}