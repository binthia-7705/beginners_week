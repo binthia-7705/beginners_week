{
  "nbformat": 4,
  "nbformat_minor": 0,
  "metadata": {
    "colab": {
      "provenance": [],
      "authorship_tag": "ABX9TyMAyEZ27Xf3Uw/Egif0ihps",
      "include_colab_link": true
    },
    "kernelspec": {
      "name": "python3",
      "display_name": "Python 3"
    },
    "language_info": {
      "name": "python"
    }
  },
  "cells": [
    {
      "cell_type": "markdown",
      "metadata": {
        "id": "view-in-github",
        "colab_type": "text"
      },
      "source": [
        "<a href=\"https://colab.research.google.com/github/binthia-7705/beginners_week/blob/main/Random_Number_Generator.ipynb\" target=\"_parent\"><img src=\"https://colab.research.google.com/assets/colab-badge.svg\" alt=\"Open In Colab\"/></a>"
      ]
    },
    {
      "cell_type": "code",
      "source": [
        "import requests\n",
        "import random\n",
        "\n",
        "def get_positive_zen_quote():\n",
        "    \"\"\"Fetches multiple quotes and returns a random one that doesn't contain negative keywords.\"\"\"\n",
        "    negative_words = [\"sadness\", \"sad\", \"pain\", \"painful\", \"fear\", \"afraid\", \"anger\", \"angry\", \"loneliness\", \"lonely\",\n",
        "                          \"despair\", \"desperate\", \"sorrow\", \"grief\", \"misery\", \"resentment\", \"bitter\", \"bitterness\", \"failure\", \"fail\",\n",
        "                          \"struggle\", \"struggling\", \"loss\", \"lose\", \"defeat\", \"broken\", \"weak\", \"weakness\", \"doubt\", \"difficulty\",\n",
        "                          \"difficult\", \"disappointment\", \"mistake\", \"hate\", \"hatred\", \"evil\", \"war\", \"fight\", \"fighting\", \"enemy\",\n",
        "                          \"darkness\", \"dark\", \"lie\", \"lies\", \"betrayal\", \"cruel\", \"cruelty\", \"harm\", \"hurting\", \"never\",\n",
        "                          \"no\", \"not\", \"empty\", \"emptiness\", \"nothing\", \"none\", \"alone\", \"end\", \"ending\", \"gone\",\n",
        "                          \"void\", \"death\", \"die\", \"without\"]\n",
        "    api_url = \"https://zenquotes.io/api/quotes\"\n",
        "\n",
        "    try:\n",
        "        response = requests.get(api_url, timeout=5)\n",
        "        response.raise_for_status()\n",
        "\n",
        "        quotes = response.json()\n",
        "        positive_quotes = []\n",
        "\n",
        "        for quote in quotes:\n",
        "            quote_text = quote.get('q', '').lower()\n",
        "            is_positive = True\n",
        "            for word in negative_words:\n",
        "                if word in quote_text:\n",
        "                    is_positive = False\n",
        "                    break\n",
        "            if is_positive:\n",
        "                positive_quotes.append(quote)\n",
        "\n",
        "        if positive_quotes:\n",
        "            random_quote = random.choice(positive_quotes)\n",
        "            return f'{random_quote[\"q\"]}'\n",
        "        else:\n",
        "            return \"Could not find a positive quote in the batch.\"\n",
        "\n",
        "    except requests.exceptions.RequestException as e:\n",
        "        return f\"An error occurred: {e}\"\n",
        "\n",
        "\n",
        "n=random.randint(1,100)\n",
        "if n>90:\n",
        "  print(f\"The number: {n}\")\n",
        "  print(f\"The message: {get_positive_zen_quote()}\")\n",
        "else:\n",
        "  print(f\"The number: {n}\")"
      ],
      "metadata": {
        "id": "hA_I48jODYaC",
        "colab": {
          "base_uri": "https://localhost:8080/"
        },
        "outputId": "73a5de75-ad5d-4d04-b335-e0475d435663"
      },
      "execution_count": 16,
      "outputs": [
        {
          "output_type": "stream",
          "name": "stdout",
          "text": [
            "The number: 97\n",
            "The message: When you have vision it affects your attitude. Your attitude is optimistic rather than pessimistic. \n"
          ]
        }
      ]
    }
  ]
}