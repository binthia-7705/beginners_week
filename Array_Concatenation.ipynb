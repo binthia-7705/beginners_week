{
  "cells": [
    {
      "cell_type": "markdown",
      "metadata": {
        "id": "view-in-github",
        "colab_type": "text"
      },
      "source": [
        "<a href=\"https://colab.research.google.com/github/binthia-7705/beginners_week/blob/main/Array_Concatenation.ipynb\" target=\"_parent\"><img src=\"https://colab.research.google.com/assets/colab-badge.svg\" alt=\"Open In Colab\"/></a>"
      ]
    },
    {
      "cell_type": "code",
      "execution_count": 1,
      "metadata": {
        "id": "T07nHrXyxfmz"
      },
      "outputs": [],
      "source": [
        "import numpy as np"
      ]
    },
    {
      "cell_type": "code",
      "execution_count": 2,
      "metadata": {
        "id": "UCD4iFKwxBYd"
      },
      "outputs": [],
      "source": [
        "a=[1,2,3,4,5]\n",
        "b=[6,7,8,9,10]"
      ]
    },
    {
      "cell_type": "code",
      "source": [
        "#Using + operator\n",
        "join=a+b\n",
        "print(join)"
      ],
      "metadata": {
        "id": "Xfz3x62OZ7_m",
        "colab": {
          "base_uri": "https://localhost:8080/"
        },
        "outputId": "167c5f58-a500-4a9f-9b59-98932dd8a474"
      },
      "execution_count": 3,
      "outputs": [
        {
          "output_type": "stream",
          "name": "stdout",
          "text": [
            "[1, 2, 3, 4, 5, 6, 7, 8, 9, 10]\n"
          ]
        }
      ]
    },
    {
      "cell_type": "code",
      "source": [
        "#Using extend() method\n",
        "copy_a=a.copy()\n",
        "copy_a.extend(b)\n",
        "print(copy_a)"
      ],
      "metadata": {
        "id": "CUoBVVRBaRnq",
        "colab": {
          "base_uri": "https://localhost:8080/"
        },
        "outputId": "0c2528ff-e736-475d-cb18-660436a797b4"
      },
      "execution_count": 4,
      "outputs": [
        {
          "output_type": "stream",
          "name": "stdout",
          "text": [
            "[1, 2, 3, 4, 5, 6, 7, 8, 9, 10]\n"
          ]
        }
      ]
    },
    {
      "cell_type": "code",
      "source": [
        "#Using concatenate() method of numpy\n",
        "join4=np.concatenate((np.array(a),np.array(b)))\n",
        "print(join4)"
      ],
      "metadata": {
        "colab": {
          "base_uri": "https://localhost:8080/"
        },
        "id": "6xusl8Tuoso9",
        "outputId": "c142e947-a4dd-461f-944c-24127cea6efa"
      },
      "execution_count": 6,
      "outputs": [
        {
          "output_type": "stream",
          "name": "stdout",
          "text": [
            "[ 1  2  3  4  5  6  7  8  9 10]\n"
          ]
        }
      ]
    },
    {
      "cell_type": "code",
      "source": [
        "#Using append() method of numpy\n",
        "join5=np.append(np.array(a),np.array(b))\n",
        "print(join5)"
      ],
      "metadata": {
        "colab": {
          "base_uri": "https://localhost:8080/"
        },
        "id": "on2yHJYhouo4",
        "outputId": "ba8997c1-7ed7-41b9-effb-60b939079357"
      },
      "execution_count": 7,
      "outputs": [
        {
          "output_type": "stream",
          "name": "stdout",
          "text": [
            "[ 1  2  3  4  5  6  7  8  9 10]\n"
          ]
        }
      ]
    }
  ],
  "metadata": {
    "colab": {
      "provenance": [],
      "authorship_tag": "ABX9TyNc+JBmi6EHmjmhyDS/6Iyz",
      "include_colab_link": true
    },
    "kernelspec": {
      "display_name": "Python 3",
      "name": "python3"
    },
    "language_info": {
      "name": "python"
    }
  },
  "nbformat": 4,
  "nbformat_minor": 0
}